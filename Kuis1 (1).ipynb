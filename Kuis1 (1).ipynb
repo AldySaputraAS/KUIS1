{
  "cells": [
    {
      "cell_type": "markdown",
      "id": "3410ace6-f042-4355-bbbd-0c7f3b3e3158",
      "metadata": {
        "id": "3410ace6-f042-4355-bbbd-0c7f3b3e3158"
      },
      "source": [
        "# Quiz Python\n",
        "\n",
        "<li> Nama : Aldy Saputra </li>\n",
        "<li> Nim  : 1102213261 </li>\n",
        "<li> Kelas: EL-45-INT </li>"
      ]
    },
    {
      "cell_type": "markdown",
      "id": "0915d353-b655-40dc-9504-2cfd4b1bb839",
      "metadata": {
        "id": "0915d353-b655-40dc-9504-2cfd4b1bb839"
      },
      "source": [
        "1. Install SK-Learn"
      ]
    },
    {
      "cell_type": "code",
      "execution_count": 2,
      "id": "72a91884-ecaf-44da-b6fb-f990d2a5018c",
      "metadata": {
        "id": "72a91884-ecaf-44da-b6fb-f990d2a5018c"
      },
      "outputs": [],
      "source": [
        "import numpy as np\n",
        "import matplotlib.pyplot as plt\n",
        "import pandas as pd\n",
        "from sklearn.preprocessing import LabelEncoder\n",
        "from google.colab import files"
      ]
    },
    {
      "cell_type": "markdown",
      "id": "348c6e6e-830e-4712-8f11-5b5b4891a340",
      "metadata": {
        "id": "348c6e6e-830e-4712-8f11-5b5b4891a340"
      },
      "source": [
        "2. Check apakah SK-Learn sudah diinstall"
      ]
    },
    {
      "cell_type": "code",
      "execution_count": 3,
      "id": "dc6304d1-f249-4f18-bdbe-341bec9487dd",
      "metadata": {
        "colab": {
          "base_uri": "https://localhost:8080/"
        },
        "id": "dc6304d1-f249-4f18-bdbe-341bec9487dd",
        "outputId": "6af57d84-a2fb-477e-db83-de40cc365d96"
      },
      "outputs": [
        {
          "output_type": "stream",
          "name": "stdout",
          "text": [
            "Array 1 Dimensi:\n",
            "[70 50 37 17 71 50 44 53 41 74]\n"
          ]
        }
      ],
      "source": [
        "array_1d = np.random.randint(1, 100, 10)\n",
        "print(\"Array 1 Dimensi:\")\n",
        "print(array_1d)\n"
      ]
    },
    {
      "cell_type": "markdown",
      "id": "0ae4483e-2335-44d9-8a37-23f0160faeda",
      "metadata": {
        "id": "0ae4483e-2335-44d9-8a37-23f0160faeda"
      },
      "source": [
        "3. Buat Array 1 dimensi, isi dari array dibebaskan namun harus berupa integer atau float dengan menggunakan numpy."
      ]
    },
    {
      "cell_type": "code",
      "execution_count": 4,
      "id": "8cb96ff1",
      "metadata": {
        "colab": {
          "base_uri": "https://localhost:8080/"
        },
        "id": "8cb96ff1",
        "outputId": "1ac4b83e-3f21-4e46-d696-a52808b2d1cc"
      },
      "outputs": [
        {
          "output_type": "stream",
          "name": "stdout",
          "text": [
            "\n",
            "Array 2 Dimensi:\n",
            "[[80 51 94  2 72 41 29 29 79 80]\n",
            " [87 81 49 75 56 66  7 37  8 47]]\n",
            "Shape: (2, 10)\n"
          ]
        }
      ],
      "source": [
        "nim = 1202213261\n",
        "row, col = (2, 10) if nim % 2 != 0 else (3, 10)\n",
        "array_2d = np.random.randint(1, 100, (row, col))\n",
        "print(\"\\nArray 2 Dimensi:\")\n",
        "print(array_2d)\n",
        "print(\"Shape:\", array_2d.shape)"
      ]
    },
    {
      "cell_type": "markdown",
      "id": "3155dc33",
      "metadata": {
        "id": "3155dc33"
      },
      "source": [
        "4. Buatlah array 2 dimensi dengan  ukuran sesuai NIM dan keluarkan shapenya. NIM Ganjil 2x10, NIM Genap 3x10."
      ]
    },
    {
      "cell_type": "code",
      "execution_count": 5,
      "id": "183a0a6f-05bd-48f8-a86d-ba67da19868d",
      "metadata": {
        "colab": {
          "base_uri": "https://localhost:8080/",
          "height": 472
        },
        "id": "183a0a6f-05bd-48f8-a86d-ba67da19868d",
        "outputId": "e7e20cfd-4406-45bf-eb63-ad9446a93d40"
      },
      "outputs": [
        {
          "output_type": "display_data",
          "data": {
            "text/plain": [
              "<Figure size 640x480 with 1 Axes>"
            ],
            "image/png": "[encoded data removed]"
          },
          "metadata": {}
        }
      ],
      "source": [
        "plt.plot(array_2d[:, 0] if nim % 2 != 0 else array_2d[:, 1])\n",
        "plt.title(\"Plot Data Array 2D\")\n",
        "plt.xlabel(\"Index\")\n",
        "plt.ylabel(\"Value\")\n",
        "plt.show()"
      ]
    },
    {
      "cell_type": "markdown",
      "id": "0687c9ea",
      "metadata": {
        "id": "0687c9ea"
      },
      "source": [
        "5. Buatlah plot data dari **spesifik data array** yang ada dinomer 4. NIM Ganjil : kolom 0, NIM Genap :kolom 1"
      ]
    },
    {
      "cell_type": "code",
      "execution_count": 6,
      "id": "1e1ddbe9",
      "metadata": {
        "colab": {
          "base_uri": "https://localhost:8080/"
        },
        "id": "1e1ddbe9",
        "outputId": "fc5568b0-8caf-4ae2-c87b-0e29aedc0afb"
      },
      "outputs": [
        {
          "output_type": "stream",
          "name": "stdout",
          "text": [
            "\n",
            "Rata-rata: 53.5\n",
            "Nilai Maksimum: 94\n",
            "Nilai Minimum: 2\n",
            "Median: 53.5\n"
          ]
        }
      ],
      "source": [
        "print(\"\\nRata-rata:\", np.mean(array_2d))\n",
        "print(\"Nilai Maksimum:\", np.max(array_2d))\n",
        "print(\"Nilai Minimum:\", np.min(array_2d))\n",
        "print(\"Median:\", np.median(array_2d))\n"
      ]
    },
    {
      "cell_type": "markdown",
      "id": "76d6a3db-dfdb-4944-a3cd-8a8e26a5e7eb",
      "metadata": {
        "id": "76d6a3db-dfdb-4944-a3cd-8a8e26a5e7eb"
      },
      "source": [
        "6. Berapakah rata-rata, nilai maksimum, nilai minimum, median dari array yang kalian buat dengan menggunakan numpy?"
      ]
    },
    {
      "cell_type": "code",
      "execution_count": 7,
      "id": "3cfdc5d7-cf36-41d5-a5fd-a82c607c0617",
      "metadata": {
        "colab": {
          "base_uri": "https://localhost:8080/"
        },
        "id": "3cfdc5d7-cf36-41d5-a5fd-a82c607c0617",
        "outputId": "08f31401-d8e1-4fe5-fbcf-8f6b86cf3c69"
      },
      "outputs": [
        {
          "output_type": "stream",
          "name": "stdout",
          "text": [
            "\n",
            "Hallo Mrs. Kodir\n"
          ]
        }
      ],
      "source": [
        "last_name = \"Kodir\"\n",
        "print(f\"\\nHallo {'Mr.' if nim % 2 == 0 else 'Mrs.'} {last_name}\")\n"
      ]
    },
    {
      "cell_type": "code",
      "execution_count": 8,
      "id": "b19a4c65",
      "metadata": {
        "id": "b19a4c65"
      },
      "outputs": [],
      "source": [
        "NameGanjil = \"Khairulah Kodir\" #NIM Ganjil\n",
        "NameGenap = \"Annisa Kodir\" #NIM Genap"
      ]
    },
    {
      "cell_type": "markdown",
      "id": "5ea88467",
      "metadata": {
        "id": "5ea88467"
      },
      "source": [
        "7. print nama terakhir dari variable diatas seperti \"Hallo Mr. Kodir\" atau \"Hallo Mrs. Kodir\""
      ]
    },
    {
      "cell_type": "code",
      "execution_count": 9,
      "id": "d6903624",
      "metadata": {
        "colab": {
          "base_uri": "https://localhost:8080/"
        },
        "id": "d6903624",
        "outputId": "49338496-2869-4065-e098-5401b3832e98"
      },
      "outputs": [
        {
          "output_type": "stream",
          "name": "stdout",
          "text": [
            "\n",
            "DataFrame:\n",
            "   Header_0  Header_1  Header_2  Header_3  Header_4  Header_5  Header_6  \\\n",
            "0        80        51        94         2        72        41        29   \n",
            "1        87        81        49        75        56        66         7   \n",
            "\n",
            "   Header_7  Header_8  Header_9  \n",
            "0        29        79        80  \n",
            "1        37         8        47  \n",
            "Shape: (2, 10)\n"
          ]
        }
      ],
      "source": [
        "df = pd.DataFrame(array_2d, columns=[f\"Header_{i}\" for i in range(col)])\n",
        "print(\"\\nDataFrame:\")\n",
        "print(df)\n",
        "print(\"Shape:\", df.shape)"
      ]
    },
    {
      "cell_type": "markdown",
      "id": "c6336528",
      "metadata": {
        "id": "c6336528"
      },
      "source": [
        "8. Buatlah dataframe dari array 2D di nomer 4 dan berikan nama header setiap kolomnya. Tunjukkan shape dari dataframenya."
      ]
    },
    {
      "cell_type": "code",
      "execution_count": 10,
      "id": "d3ce3246",
      "metadata": {
        "colab": {
          "base_uri": "https://localhost:8080/",
          "height": 472
        },
        "id": "d3ce3246",
        "outputId": "0da2d575-52ff-4ee3-e1f9-5709054a9c8a"
      },
      "outputs": [
        {
          "output_type": "display_data",
          "data": {
            "text/plain": [
              "<Figure size 640x480 with 1 Axes>"
            ],
            "image/png": "[encoded data removed]"
          },
          "metadata": {}
        }
      ],
      "source": [
        "df.iloc[:, 0 if nim % 2 != 0 else 1].plot()\n",
        "plt.title(\"Plot Data DataFrame\")\n",
        "plt.xlabel(\"Index\")\n",
        "plt.ylabel(\"Value\")\n",
        "plt.show()\n"
      ]
    },
    {
      "cell_type": "markdown",
      "id": "41aecd6c",
      "metadata": {
        "id": "41aecd6c"
      },
      "source": [
        "9. Buatlah plot data dari **spesifik dataframe** yang ada di nomer 8. NIM Ganjil : header 1, NIM Genap :header 0"
      ]
    },
    {
      "cell_type": "code",
      "execution_count": 11,
      "id": "181f934d",
      "metadata": {
        "colab": {
          "base_uri": "https://localhost:8080/"
        },
        "id": "181f934d",
        "outputId": "9cce5691-fba2-42e1-fb85-2fe71d0d4c4a"
      },
      "outputs": [
        {
          "output_type": "stream",
          "name": "stdout",
          "text": [
            "\n",
            "DataFrame setelah penambahan kolom baru:\n",
            "   Header_0  Header_1  Header_2  Header_3  Header_4  Header_5  Header_6  \\\n",
            "0        80        51        94         2        72        41        29   \n",
            "1        87        81        49        75        56        66         7   \n",
            "\n",
            "   Header_7  Header_8  Header_9  New_Column  \n",
            "0        29        79        80        6451  \n",
            "1        37         8        47        7650  \n"
          ]
        }
      ],
      "source": [
        "new_col = array_2d[:, 1] + array_2d[:, 0] ** 2 if nim % 2 != 0 else array_2d[:, 0] ** 2 + array_2d[:, 1]\n",
        "df[\"New_Column\"] = new_col\n",
        "print(\"\\nDataFrame setelah penambahan kolom baru:\")\n",
        "print(df)"
      ]
    },
    {
      "cell_type": "markdown",
      "id": "4801c339",
      "metadata": {
        "id": "4801c339"
      },
      "source": [
        "10. Tambahkan satu kolom dari hasil perhitungan rumus masing-masing tipe NIM. NIM Genap: kolom1<sup>2</sup> +kolom1, NIM Ganjil: kolom2 +kolom1<sup>2</sup>"
      ]
    },
    {
      "cell_type": "code",
      "execution_count": 12,
      "id": "b8744a9a",
      "metadata": {
        "colab": {
          "base_uri": "https://localhost:8080/"
        },
        "id": "b8744a9a",
        "outputId": "031777c2-1911-4ecf-95e5-fe76ded77c78"
      },
      "outputs": [
        {
          "output_type": "stream",
          "name": "stdout",
          "text": [
            "\n",
            "Data Series:\n",
            "0    70\n",
            "1    50\n",
            "2    37\n",
            "3    17\n",
            "4    71\n",
            "5    50\n",
            "6    44\n",
            "7    53\n",
            "8    41\n",
            "9    74\n",
            "Name: Data_Series, dtype: int64\n"
          ]
        }
      ],
      "source": [
        "data_series = pd.Series(array_1d, name=\"Data_Series\")\n",
        "print(\"\\nData Series:\")\n",
        "print(data_series)\n"
      ]
    },
    {
      "cell_type": "markdown",
      "id": "dd7966e9-92cc-4409-8238-91417aa486f8",
      "metadata": {
        "id": "dd7966e9-92cc-4409-8238-91417aa486f8"
      },
      "source": [
        "11. Buat data series dari array yang dibuat dan beri nama."
      ]
    },
    {
      "cell_type": "code",
      "execution_count": 13,
      "id": "d1a8d498-2273-4209-8479-83af2950d41c",
      "metadata": {
        "colab": {
          "base_uri": "https://localhost:8080/"
        },
        "id": "d1a8d498-2273-4209-8479-83af2950d41c",
        "outputId": "f3f69559-9c36-41c9-94fc-8a0cb6282651"
      },
      "outputs": [
        {
          "output_type": "stream",
          "name": "stdout",
          "text": [
            "\n",
            "Data Frame setelah penggabungan Data Series:\n",
            "   Data_Series  Data_Series_2\n",
            "0           70             90\n",
            "1           50             48\n",
            "2           37             12\n",
            "3           17             32\n",
            "4           71             25\n",
            "5           50             23\n",
            "6           44              7\n",
            "7           53             69\n",
            "8           41             99\n",
            "9           74             49\n"
          ]
        }
      ],
      "source": [
        "data_series_2 = pd.Series(np.random.randint(1, 100, 10), name=\"Data_Series_2\")\n",
        "combined_df = pd.concat([data_series, data_series_2], axis=1)\n",
        "print(\"\\nData Frame setelah penggabungan Data Series:\")\n",
        "print(combined_df)"
      ]
    },
    {
      "cell_type": "markdown",
      "id": "2e588714-0a0e-4fae-b2d7-d3c4f6f497ec",
      "metadata": {
        "id": "2e588714-0a0e-4fae-b2d7-d3c4f6f497ec"
      },
      "source": [
        "12. Buat satu data series lagi, kemudian gabungkan data series tersebut dengan data series sebelumnya sehingga membuat satu data frame. Kemudian buat Excel dari data frame tersebut."
      ]
    },
    {
      "cell_type": "code",
      "execution_count": 14,
      "id": "be30303f-0467-4601-a3f3-26dfecabeed9",
      "metadata": {
        "colab": {
          "base_uri": "https://localhost:8080/",
          "height": 91
        },
        "id": "be30303f-0467-4601-a3f3-26dfecabeed9",
        "outputId": "e6d670cc-1713-490e-e4ac-2acc7e1e371f"
      },
      "outputs": [
        {
          "output_type": "display_data",
          "data": {
            "text/plain": [
              "<IPython.core.display.HTML object>"
            ],
            "text/html": [
              "\n",
              "     <input type=\"file\" id=\"files-84150491-adbb-4177-8315-22ef77f2643c\" name=\"files[]\" multiple disabled\n",
              "        style=\"border:none\" />\n",
              "     <output id=\"result-84150491-adbb-4177-8315-22ef77f2643c\">\n",
              "      Upload widget is only available when the cell has been executed in the\n",
              "      current browser session. Please rerun this cell to enable.\n",
              "      </output>\n",
              "      <script>// Copyright 2017 Google LLC\n",
              "//\n",
              "// Licensed under the Apache License, Version 2.0 (the \"License\");\n",
              "// you may not use this file except in compliance with the License.\n",
              "// You may obtain a copy of the License at\n",
              "//\n",
              "//      http://www.apache.org/licenses/LICENSE-2.0\n",
              "//\n",
              "// Unless required by applicable law or agreed to in writing, software\n",
              "// distributed under the License is distributed on an \"AS IS\" BASIS,\n",
              "// WITHOUT WARRANTIES OR CONDITIONS OF ANY KIND, either express or implied.\n",
              "// See the License for the specific language governing permissions and\n",
              "// limitations under the License.\n",
              "\n",
              "/**\n",
              " * @fileoverview Helpers for google.colab Python module.\n",
              " */\n",
              "(function(scope) {\n",
              "function span(text, styleAttributes = {}) {\n",
              "  const element = document.createElement('span');\n",
              "  element.textContent = text;\n",
              "  for (const key of Object.keys(styleAttributes)) {\n",
              "    element.style[key] = styleAttributes[key];\n",
              "  }\n",
              "  return element;\n",
              "}\n",
              "\n",
              "// Max number of bytes which will be uploaded at a time.\n",
              "const MAX_PAYLOAD_SIZE = 100 * 1024;\n",
              "\n",
              "function _uploadFiles(inputId, outputId) {\n",
              "  const steps = uploadFilesStep(inputId, outputId);\n",
              "  const outputElement = document.getElementById(outputId);\n",
              "  // Cache steps on the outputElement to make it available for the next call\n",
              "  // to uploadFilesContinue from Python.\n",
              "  outputElement.steps = steps;\n",
              "\n",
              "  return _uploadFilesContinue(outputId);\n",
              "}\n",
              "\n",
              "// This is roughly an async generator (not supported in the browser yet),\n",
              "// where there are multiple asynchronous steps and the Python side is going\n",
              "// to poll for completion of each step.\n",
              "// This uses a Promise to block the python side on completion of each step,\n",
              "// then passes the result of the previous step as the input to the next step.\n",
              "function _uploadFilesContinue(outputId) {\n",
              "  const outputElement = document.getElementById(outputId);\n",
              "  const steps = outputElement.steps;\n",
              "\n",
              "  const next = steps.next(outputElement.lastPromiseValue);\n",
              "  return Promise.resolve(next.value.promise).then((value) => {\n",
              "    // Cache the last promise value to make it available to the next\n",
              "    // step of the generator.\n",
              "    outputElement.lastPromiseValue = value;\n",
              "    return next.value.response;\n",
              "  });\n",
              "}\n",
              "\n",
              "/**\n",
              " * Generator function which is called between each async step of the upload\n",
              " * process.\n",
              " * @param {string} inputId Element ID of the input file picker element.\n",
              " * @param {string} outputId Element ID of the output display.\n",
              " * @return {!Iterable<!Object>} Iterable of next steps.\n",
              " */\n",
              "function* uploadFilesStep(inputId, outputId) {\n",
              "  const inputElement = document.getElementById(inputId);\n",
              "  inputElement.disabled = false;\n",
              "\n",
              "  const outputElement = document.getElementById(outputId);\n",
              "  outputElement.innerHTML = '';\n",
              "\n",
              "  const pickedPromise = new Promise((resolve) => {\n",
              "    inputElement.addEventListener('change', (e) => {\n",
              "      resolve(e.target.files);\n",
              "    });\n",
              "  });\n",
              "\n",
              "  const cancel = document.createElement('button');\n",
              "  inputElement.parentElement.appendChild(cancel);\n",
              "  cancel.textContent = 'Cancel upload';\n",
              "  const cancelPromise = new Promise((resolve) => {\n",
              "    cancel.onclick = () => {\n",
              "      resolve(null);\n",
              "    };\n",
              "  });\n",
              "\n",
              "  // Wait for the user to pick the files.\n",
              "  const files = yield {\n",
              "    promise: Promise.race([pickedPromise, cancelPromise]),\n",
              "    response: {\n",
              "      action: 'starting',\n",
              "    }\n",
              "  };\n",
              "\n",
              "  cancel.remove();\n",
              "\n",
              "  // Disable the input element since further picks are not allowed.\n",
              "  inputElement.disabled = true;\n",
              "\n",
              "  if (!files) {\n",
              "    return {\n",
              "      response: {\n",
              "        action: 'complete',\n",
              "      }\n",
              "    };\n",
              "  }\n",
              "\n",
              "  for (const file of files) {\n",
              "    const li = document.createElement('li');\n",
              "    li.append(span(file.name, {fontWeight: 'bold'}));\n",
              "    li.append(span(\n",
              "        `(${file.type || 'n/a'}) - ${file.size} bytes, ` +\n",
              "        `last modified: ${\n",
              "            file.lastModifiedDate ? file.lastModifiedDate.toLocaleDateString() :\n",
              "                                    'n/a'} - `));\n",
              "    const percent = span('0% done');\n",
              "    li.appendChild(percent);\n",
              "\n",
              "    outputElement.appendChild(li);\n",
              "\n",
              "    const fileDataPromise = new Promise((resolve) => {\n",
              "      const reader = new FileReader();\n",
              "      reader.onload = (e) => {\n",
              "        resolve(e.target.result);\n",
              "      };\n",
              "      reader.readAsArrayBuffer(file);\n",
              "    });\n",
              "    // Wait for the data to be ready.\n",
              "    let fileData = yield {\n",
              "      promise: fileDataPromise,\n",
              "      response: {\n",
              "        action: 'continue',\n",
              "      }\n",
              "    };\n",
              "\n",
              "    // Use a chunked sending to avoid message size limits. See b/62115660.\n",
              "    let position = 0;\n",
              "    do {\n",
              "      const length = Math.min(fileData.byteLength - position, MAX_PAYLOAD_SIZE);\n",
              "      const chunk = new Uint8Array(fileData, position, length);\n",
              "      position += length;\n",
              "\n",
              "      const base64 = btoa(String.fromCharCode.apply(null, chunk));\n",
              "      yield {\n",
              "        response: {\n",
              "          action: 'append',\n",
              "          file: file.name,\n",
              "          data: base64,\n",
              "        },\n",
              "      };\n",
              "\n",
              "      let percentDone = fileData.byteLength === 0 ?\n",
              "          100 :\n",
              "          Math.round((position / fileData.byteLength) * 100);\n",
              "      percent.textContent = `${percentDone}% done`;\n",
              "\n",
              "    } while (position < fileData.byteLength);\n",
              "  }\n",
              "\n",
              "  // All done.\n",
              "  yield {\n",
              "    response: {\n",
              "      action: 'complete',\n",
              "    }\n",
              "  };\n",
              "}\n",
              "\n",
              "scope.google = scope.google || {};\n",
              "scope.google.colab = scope.google.colab || {};\n",
              "scope.google.colab._files = {\n",
              "  _uploadFiles,\n",
              "  _uploadFilesContinue,\n",
              "};\n",
              "})(self);\n",
              "</script> "
            ]
          },
          "metadata": {}
        },
        {
          "output_type": "stream",
          "name": "stdout",
          "text": [
            "Saving combined_data.xlsx to combined_data (1).xlsx\n"
          ]
        }
      ],
      "source": [
        "combined_df.to_excel(\"combined_data.xlsx\", index=False)\n",
        "uploaded = files.upload()"
      ]
    },
    {
      "cell_type": "markdown",
      "id": "660398bf-e15d-4e68-9175-4dddcbf89a4b",
      "metadata": {
        "id": "660398bf-e15d-4e68-9175-4dddcbf89a4b"
      },
      "source": [
        "13. Upload data Excel yang disediakan di LMS dengan menggunakan pandas."
      ]
    },
    {
      "cell_type": "code",
      "execution_count": 15,
      "id": "31385387-3b5c-4b35-a840-ad41f432fbab",
      "metadata": {
        "colab": {
          "base_uri": "https://localhost:8080/"
        },
        "id": "31385387-3b5c-4b35-a840-ad41f432fbab",
        "outputId": "3d4590e0-b946-4851-e5a8-2978cbcbe150"
      },
      "outputs": [
        {
          "output_type": "stream",
          "name": "stdout",
          "text": [
            "\n",
            "Jumlah data (jumlah baris): 10\n"
          ]
        }
      ],
      "source": [
        "print(\"\\nJumlah data (jumlah baris):\", len(combined_df))\n"
      ]
    },
    {
      "cell_type": "markdown",
      "id": "d8cae196-a172-4a7b-b6ea-afbc4ae5d202",
      "metadata": {
        "id": "d8cae196-a172-4a7b-b6ea-afbc4ae5d202"
      },
      "source": [
        "14. Berapa jumlah data (jumlah row) dari data diatas."
      ]
    },
    {
      "cell_type": "code",
      "execution_count": 16,
      "id": "04a4b7a6-f0c2-4cde-859a-cf896271ee38",
      "metadata": {
        "colab": {
          "base_uri": "https://localhost:8080/"
        },
        "id": "04a4b7a6-f0c2-4cde-859a-cf896271ee38",
        "outputId": "1c979f01-d9ce-49a7-eb3c-074801122f8f"
      },
      "outputs": [
        {
          "output_type": "stream",
          "name": "stdout",
          "text": [
            "\n",
            "Header Excel:\n",
            "['Data_Series', 'Data_Series_2']\n"
          ]
        }
      ],
      "source": [
        "print(\"\\nHeader Excel:\")\n",
        "excel_header = list(pd.read_excel(\"combined_data.xlsx\").columns)\n",
        "print(excel_header)"
      ]
    },
    {
      "cell_type": "markdown",
      "id": "028664d4-6781-49bd-b87d-0a5be8e23a8d",
      "metadata": {
        "id": "028664d4-6781-49bd-b87d-0a5be8e23a8d"
      },
      "source": [
        "15. Tampilkan semua header excel dari data diatas."
      ]
    },
    {
      "cell_type": "code",
      "execution_count": 17,
      "id": "02857a6a-328a-423f-9eb8-adcf15e7bc34",
      "metadata": {
        "id": "02857a6a-328a-423f-9eb8-adcf15e7bc34"
      },
      "outputs": [],
      "source": [
        "X = array_2d  # Fitur\n",
        "y = np.random.choice([\"jenis_ikan_1\", \"jenis_ikan_2\"], size=row)  # Label\n"
      ]
    },
    {
      "cell_type": "markdown",
      "id": "e59c9f81-716c-4d6d-b3e0-3748a5b974b5",
      "metadata": {
        "id": "e59c9f81-716c-4d6d-b3e0-3748a5b974b5"
      },
      "source": [
        "16. Siapkan data yang digunakan untuk dijalankan di training di Machine Learning, dimana x = Fitur dan y = lebel."
      ]
    },
    {
      "cell_type": "code",
      "execution_count": 18,
      "id": "4fe9359d-f5fe-4460-b987-b4806d0b350f",
      "metadata": {
        "colab": {
          "base_uri": "https://localhost:8080/",
          "height": 342
        },
        "id": "4fe9359d-f5fe-4460-b987-b4806d0b350f",
        "outputId": "992edd7e-53b2-4e3e-c217-9626f0d8a67a"
      },
      "outputs": [
        {
          "output_type": "display_data",
          "data": {
            "text/plain": [
              "<Figure size 1000x500 with 1 Axes>"
            ],
            "image/png": "[encoded data removed]"
          },
          "metadata": {}
        }
      ],
      "source": [
        "label_encoder = LabelEncoder()\n",
        "y_encoded = label_encoder.fit_transform(y)\n",
        "\n",
        "# Plotting\n",
        "plt.figure(figsize=(10, 5))\n",
        "plt.scatter(array_2d[:, 0], y_encoded)\n",
        "plt.xlabel(\"Height/Width\")\n",
        "plt.ylabel(\"Species\")\n",
        "plt.yticks(np.arange(0, len(label_encoder.classes_)), label_encoder.classes_)\n",
        "plt.title(\"Scatter Plot Height/Width vs Species\")\n",
        "plt.grid(True)\n",
        "plt.show()"
      ]
    },
    {
      "cell_type": "markdown",
      "id": "1b1d7557-112b-4152-9a3e-4c1639110afa",
      "metadata": {
        "id": "1b1d7557-112b-4152-9a3e-4c1639110afa"
      },
      "source": [
        "### Soal Tambahan"
      ]
    },
    {
      "cell_type": "markdown",
      "id": "8be53fc8-4c88-4231-ba2b-59516c62a379",
      "metadata": {
        "id": "8be53fc8-4c88-4231-ba2b-59516c62a379"
      },
      "source": [
        "Ubah species string menjadi column integer dengan menggunakan LabelEncoder pada sklearn.preprocessing, lalu buat 2 ploting dimana sumbu x merupakan Height atau Width dan Y merupakan  jenis ikannya (species)."
      ]
    },
    {
      "cell_type": "code",
      "execution_count": 18,
      "id": "70722fb4-74f5-4af9-84e6-631614cc2f1c",
      "metadata": {
        "id": "70722fb4-74f5-4af9-84e6-631614cc2f1c"
      },
      "outputs": [],
      "source": []
    },
    {
      "cell_type": "code",
      "execution_count": 18,
      "id": "f95d841e-72f7-4e6e-a6d0-17a9e4d38115",
      "metadata": {
        "id": "f95d841e-72f7-4e6e-a6d0-17a9e4d38115"
      },
      "outputs": [],
      "source": []
    },
    {
      "cell_type": "code",
      "execution_count": 18,
      "id": "1a7e73bf-0bce-4963-8fb3-a06a66fdf1eb",
      "metadata": {
        "id": "1a7e73bf-0bce-4963-8fb3-a06a66fdf1eb"
      },
      "outputs": [],
      "source": []
    }
  ],
  "metadata": {
    "kernelspec": {
      "display_name": "Python 3",
      "language": "python",
      "name": "python3"
    },
    "language_info": {
      "codemirror_mode": {
        "name": "ipython",
        "version": 3
      },
      "file_extension": ".py",
      "mimetype": "text/x-python",
      "name": "python",
      "nbconvert_exporter": "python",
      "pygments_lexer": "ipython3",
      "version": "3.10.9"
    },
    "colab": {
      "provenance": []
    }
  },
  "nbformat": 4,
  "nbformat_minor": 5
}